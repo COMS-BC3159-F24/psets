{
  "cells": [
    {
      "cell_type": "markdown",
      "metadata": {
        "id": "xTKiGPkJ5qRy"
      },
      "source": [
        "# PSET 0: C++ Review & Matrix Multiplication\n",
        "\n",
        "This problem set is designed to refresh your C++ skills and then get your matrix chops warmed up via a simple multiplication implementation. You will work through problems that cover C++ basics, arrays, dynamic memory, and templates. Each C++ section builds on the previous one, so make sure to work through them in order.\n",
        "\n",
        "You can compile and run your C++ code within this notebook. Follow the instructions provided in each section.  We will run autograder tests on your work (you should be able to see the results in Gradescope).  For a few problems, the autograder tests are embedded right in your notebook and you can run them yourself!\n",
        "\n",
        "Try not to add additional cells nor rearrange any that exist now as it will mess with our autograder (but feel free to open another Colab/notebook on the side).\n",
        "\n",
        "### Make sure to submit your final notebook with all of your solutions to Gradescope!\n",
        "[Direct Gradescope Link](https://www.gradescope.com/courses/820552)"
      ]
    },
    {
      "cell_type": "markdown",
      "metadata": {
        "id": "TOusEnXk5qRz"
      },
      "source": [
        "### Before Starting\n",
        "\n",
        "We're in an interactive _Python_ notebook.  So, of course, running C++ code is not going to be as easy as it is to run Python code.  That said, we can use a helper (just a Python wrapper to ingest and spit out a `.cpp` file) to make this cleaner.  Start by importing it below."
      ]
    },
    {
      "cell_type": "code",
      "execution_count": null,
      "metadata": {
        "id": "_t8fU8-85qR0"
      },
      "outputs": [],
      "source": [
        "# Install some magic to make c programs look nice!\n",
        "!curl -o ./cpp_saver.py https://raw.githubusercontent.com/COMS-BC3159-F24/helpers/main/cpp_saver.py\n",
        "%load_ext cpp_saver"
      ]
    },
    {
      "cell_type": "markdown",
      "metadata": {
        "id": "FSLXOUeo5qR1"
      },
      "source": [
        "#### Navigating\n",
        "Nice, now that we've installed this plugin, let's expore where things will go.  We can use the command line to view all files in the current working directory by using the `ls` command. We can also use the `ls -al` command to view all files (including hidden ones) along with additonal information about each file. Note: in Google Colab all command line commands need to be preceeded by a `!` or through a special function like `%%writefile` as shown above."
      ]
    },
    {
      "cell_type": "code",
      "execution_count": null,
      "metadata": {
        "id": "oi1mD_pB5qR1"
      },
      "outputs": [],
      "source": [
        "!ls -al"
      ]
    },
    {
      "cell_type": "markdown",
      "metadata": {
        "id": "PYo5j0aM5qR1"
      },
      "source": [
        "#### Using the Plugin\n",
        "To use the plugin, we'll simply add a `%%cpp -n [your_filename].c` line to the start of each code block in our interactive notebook.  Then we can write our `C` or `C++` as we wish!  This will take the C++ you write below in the cell and save it to that file.  Let's try it for a simple `Hello, World!`"
      ]
    },
    {
      "cell_type": "code",
      "execution_count": null,
      "metadata": {
        "id": "VXUVlbBI5qR2"
      },
      "outputs": [],
      "source": [
        "%%cpp -n hello.cpp\n",
        "\n",
        "#include <cstdio>\n",
        "int main() {\n",
        "    // C and C++ programs start executing from the main function\n",
        "    // the main function returns an integer (it needs to be \"typed\")\n",
        "    printf(\"Hello, Barnard!\\n\");\n",
        "    return 0;\n",
        "}"
      ]
    },
    {
      "cell_type": "markdown",
      "metadata": {
        "id": "AOwxxuFA5qR2"
      },
      "source": [
        "You'll see that we have successfully made the `hello.cpp` file in the current folder (which is referred to as `.`). We can also create folders by using the command `mkdir` and move files into that folder with the `mv` command (the `cp` command works similarly and copies files).  You can change directories (move your current position from folder to folder) using `cd` but this sort of stuff starts to break down in our Colab/`.ipynb` world, so we won't do much of this.  All of the `.cpp` files and executables we generate will get dumped in the same directory as your `.ipynb` file."
      ]
    },
    {
      "cell_type": "markdown",
      "metadata": {
        "id": "EmexY2AR5qR2"
      },
      "source": [
        "#### Compiling and Running\n",
        "We've captured our input to a file, but let's actually compile and run!  Let's now compile and run our code.  As a compiled language you need to first run a compiler over an `C` code to produce binary code that the computer can then run. While this two step process may seem cumbersome to those of you coming from a mostly Python background, this allows for additional optimizations for runtime. Below is a figure from Dive into Systems that shows this visually!\n",
        "\n",
        "![compile](https://diveintosystems.org/singlepage/book/modules/C_intro/assets/images/compile.png)"
      ]
    },
    {
      "cell_type": "code",
      "execution_count": null,
      "metadata": {
        "id": "ISZ0ZgNW5qR2"
      },
      "outputs": [],
      "source": [
        "# Now lets compile our code into a working file!\n",
        "!g++ hello.cpp -o hello"
      ]
    },
    {
      "cell_type": "markdown",
      "metadata": {
        "id": "mqdZdqa35qR2"
      },
      "source": [
        "At this stage, you might find tons of pesky errors in your code and cryptic compilation errors.  Start at the top of the output and work on each line of code that the compiler error mentions until you fix all errors!  Google and StackOverflow are always useful for this!"
      ]
    },
    {
      "cell_type": "code",
      "execution_count": null,
      "metadata": {
        "id": "TgCCYaIR5qR3"
      },
      "outputs": [],
      "source": [
        "# And now lets run that code!\n",
        "!./hello"
      ]
    },
    {
      "cell_type": "markdown",
      "metadata": {
        "deletable": false,
        "editable": false,
        "id": "JCTgNkzz5qR3"
      },
      "source": [
        "## Problem 1: C++ Basics\n",
        "**Note**: our autograder requires that your output matches exactly the form we provide as example\n",
        "\n",
        "### Part A: Basic Syntax and I/O\n",
        "Write a simple C++ program that copies and inputted integer, doubles the copy, and prints the original and doubled version using `printf()` (since CUDA and `std::cout` don't play nicely) like so:\n",
        "\n",
        "```text\n",
        "Original: 1\n",
        "Doubled: 2\n",
        "```\n",
        "This will become very handy for quick CUDA debugging. For more information on `printf()` and format codes like `%.1f` and `%d` and special characters like `\\n` please see: https://en.cppreference.com/w/c/io/fprintf.\n",
        "\n",
        "*Hint: those codes/characters just might be useful in your answer!*\n",
        "\n",
        "### Part B: Control Structures\n",
        "Extend your program to check if the number is `positive`, `negative`, or `zero`, and print a message exactly as follows like so but with the respective pieces for a given input:\n",
        "\n",
        "```text\n",
        "Original: 1\n",
        "Doubled: 2\n",
        "Original is: positive\n",
        "```\n"
      ]
    },
    {
      "cell_type": "code",
      "execution_count": null,
      "metadata": {
        "id": "qqtWMxOc5qR3",
        "tags": []
      },
      "outputs": [],
      "source": [
        "%%cpp -n basic_io.cpp\n",
        "\n",
        "#include <cstdio>       // for printf\n",
        "#include <string>       // for std::stoi\n",
        "\n",
        "int main(int argc, char *argv[]) {\n",
        "\n",
        "    // Check if the correct number of arguments are provided\n",
        "    if (argc < 2) {\n",
        "        printf(\"Usage: %s <number>\\n\", argv[0]);\n",
        "        return 1;\n",
        "    }\n",
        "\n",
        "    // Convert the first argument to an integer\n",
        "    int input_val = std::stoi(argv[1]);\n",
        "\n",
        "    /* Part A: Basic Syntax and I/O */\n",
        "    // Double the number\n",
        "    // TODO\n",
        "    ...\n",
        "    ...\n",
        "    // Print original and new\n",
        "    // TODO\n",
        "    ...\n",
        "    ...\n",
        "\n",
        "    /* Part B: Control Structures */\n",
        "    // Print the sign\n",
        "    // TODO\n",
        "    ...\n",
        "    ...\n",
        "    ...\n",
        "    ...\n",
        "    ...\n",
        "    ...\n",
        "    ...\n",
        "\n",
        "    return 0;\n",
        "}"
      ]
    },
    {
      "cell_type": "markdown",
      "metadata": {
        "deletable": false,
        "editable": false,
        "id": "DctNMuhD5qR3"
      },
      "source": [
        "#### Let's compile and run it\n",
        "Hopefully, you get the same output as we suggested.  You might have to deal with those pesky errors, first!"
      ]
    },
    {
      "cell_type": "code",
      "execution_count": null,
      "metadata": {
        "deletable": false,
        "editable": false,
        "id": "lhSsBt235qR3"
      },
      "outputs": [],
      "source": [
        "!g++ basic_io.cpp -o basic_io\n",
        "!./basic_io 1"
      ]
    },
    {
      "cell_type": "markdown",
      "metadata": {
        "deletable": false,
        "editable": false,
        "id": "npYyIrHQ5qR3"
      },
      "source": [
        "\n",
        "## Problem 2: Arrays, Looping, and Indexing\n",
        "\n",
        "Write a program that initializes an array of 10 integers, fills it with the numbers `n` through `n+10`, where `n` was provided as input. Then calculate the sum of the array elements.\n",
        "\n",
        "Print the array by calling our `print_array()` function and then print the sum, so your output should look **exactly** like the following for an input of starting integer 1:\n",
        "\n",
        "```text\n",
        "Array elements: 1, 2, 3, 4, 5, 6, 7, 8, 9, 10,\n",
        "Sum: 55\n",
        "```\n"
      ]
    },
    {
      "cell_type": "code",
      "execution_count": null,
      "metadata": {
        "id": "uNqXs-4Y5qR4",
        "tags": []
      },
      "outputs": [],
      "source": [
        "%%cpp -n arrays.cpp\n",
        "\n",
        "#include <cstdio>       // for printf\n",
        "#include <string>       // for std::stoi\n",
        "\n",
        "// Another function for printing\n",
        "void print_array(int arr[], int size) {\n",
        "    printf(\"Array elements: \");\n",
        "    for (int i = 0; i < size; i++) {\n",
        "        printf(\"%d, \", arr[i]);\n",
        "    }\n",
        "    printf(\"\\n\");\n",
        "}\n",
        "\n",
        "int main(int argc, char *argv[]) {\n",
        "\n",
        "    // Check if the correct number of arguments are provided\n",
        "    if (argc < 2) {\n",
        "        printf(\"Usage: %s <number>\\n\", argv[0]);\n",
        "        return 1;\n",
        "    }\n",
        "\n",
        "    // Convert the first argument to an integer\n",
        "    int input_val = std::stoi(argv[1]);\n",
        "\n",
        "    int arr[10];\n",
        "    int sum = 0;\n",
        "\n",
        "    // Fill the array with the specified values and print the array\n",
        "    // TODO\n",
        "    ...\n",
        "    ...\n",
        "    ...\n",
        "    ...\n",
        "    ...\n",
        "    // Calculate the sum of array elements and print the sum\n",
        "    // TODO\n",
        "    ...\n",
        "    ...\n",
        "    ...\n",
        "    ...\n",
        "\n",
        "    return 0;\n",
        "}"
      ]
    },
    {
      "cell_type": "markdown",
      "metadata": {
        "deletable": false,
        "editable": false,
        "id": "jTiFwITT5qR4"
      },
      "source": [
        "#### Compile and Run\n",
        "Do you get the same output as we suggested?  If not, revisit your implementation!"
      ]
    },
    {
      "cell_type": "code",
      "execution_count": null,
      "metadata": {
        "deletable": false,
        "editable": false,
        "id": "ujZg79YH5qR4"
      },
      "outputs": [],
      "source": [
        "!g++ arrays.cpp -o arrays\n",
        "!./arrays 1"
      ]
    },
    {
      "cell_type": "markdown",
      "metadata": {
        "deletable": false,
        "editable": false,
        "id": "QkX1X7OT5qR5"
      },
      "source": [
        "\n",
        "## Problem 3: Dynamic Memory with Pointers\n",
        "\n",
        "Repeat Problem 2 but with a program that *dynamically* allocates memory for an array of integers and deallocates.\n",
        "\n",
        "Ensure your program handles potential memory leaks or dangling pointers.\n"
      ]
    },
    {
      "cell_type": "markdown",
      "metadata": {
        "deletable": false,
        "editable": false,
        "id": "KEgLnNnH5qR5"
      },
      "source": [
        "#### An Aside on Pointers\n",
        "\n",
        "In C we get to directly modify memory addresses. This allows us significantly more control over data movement which we will leverage in this course for acceleration. However, it also can lead to lots of security vulnerabilities and so we'll need to be careful when using pointers.\n",
        "\n",
        "Ok so what is a pointer? **A pointer is a special kind of variable which holds a memory address!** Aka it \"points\" at the place in memeory where some value is stored. It turns out that is just what object variables are in Java and Python but in C we are able to treat them simply as numbers and manipulate them a lot more! This also means we can simply pass compact numbers from one function to another instead of all of the data! Below is an image from Dive into Systems that shows this graphically.\n",
        "\n",
        "![pointer](https://diveintosystems.org/singlepage/book/modules/C_depth/assets/images/ptr.png)"
      ]
    },
    {
      "cell_type": "markdown",
      "metadata": {
        "deletable": false,
        "editable": false,
        "id": "33309rMt5qR5"
      },
      "source": [
        "Programs often allocate memory dynamically to tailor the size of an array for a particular run.  They \"point\" to that allocation via a \"pointer.\"\n",
        "\n",
        "We allocate memory using\n",
        "```cpp\n",
        "int* my_pointer = (int*) malloc(sizeof(int))\n",
        "```\n",
        "You may need to increase the size passed to `malloc()` if you're allocating more than a single integer.  And you may need to change the type of pointer and the casting (just preceding `malloc()`) if you're allocating space for a different type.\n",
        "\n",
        "For good practice, you might want to check if the pointer is `nullptr` and error if so.\n",
        "\n",
        "When you're done using the dynamically allocated memory, be sure to call `free(my_pointer)`.  (It's important to keep track of the memory that has been allocated dynamically, as forgetting to deallocate it can cause memory leaks and may lead to other memory-related problems in the future.)"
      ]
    },
    {
      "cell_type": "markdown",
      "metadata": {
        "deletable": false,
        "editable": false,
        "id": "DhR_r9bQ5qR8"
      },
      "source": [
        "#### Problem 3 (repeated)\n",
        "\n",
        "Write a program that allocates space for an array of 10 integers, then fill it with the numbers `n` through `n+10`, where `n` was provided as input. Then calculate the sum of the array elements.\n",
        "\n",
        "Print the array by calling our `print_array()` function and then print the sum, so your output should look **exactly** like the following for an input of starting integer 1:\n",
        "\n",
        "```text\n",
        "Array elements: 1, 2, 3, 4, 5, 6, 7, 8, 9, 10,\n",
        "Sum: 55\n",
        "```"
      ]
    },
    {
      "cell_type": "code",
      "execution_count": null,
      "metadata": {
        "id": "SIF_ocrl5qR8",
        "tags": []
      },
      "outputs": [],
      "source": [
        "%%cpp -n dynamic.cpp\n",
        "\n",
        "#include <cstdio>       // for printf\n",
        "#include <string>       // for std::stoi\n",
        "\n",
        "void print_array(int* arr, int size) {\n",
        "    printf(\"Array elements: \");\n",
        "    for (int i = 0; i < size; i++) {\n",
        "        printf(\"%d, \", arr[i]);\n",
        "    }\n",
        "    printf(\"\\n\");\n",
        "}\n",
        "\n",
        "int main(int argc, char *argv[]) {\n",
        "\n",
        "    // Check if the correct number of arguments are provided\n",
        "    if (argc < 2) {\n",
        "        printf(\"Usage: %s <number>\\n\", argv[0]);\n",
        "        return 1;\n",
        "    }\n",
        "\n",
        "    // Convert the first argument to an integer\n",
        "    int input_val = std::stoi(argv[1]);\n",
        "    int arr_size = 10;\n",
        "\n",
        "    // Dynamically allocate memory for the array\n",
        "    // TODO\n",
        "    ...\n",
        "    ...\n",
        "    // Fill the array with the specified values and print the array\n",
        "    // TODO\n",
        "    ...\n",
        "    ...\n",
        "    ...\n",
        "    ...\n",
        "    ...\n",
        "    ...\n",
        "    // Calculate the sum of array elements and print the sum\n",
        "    // TODO\n",
        "    ...\n",
        "    ...\n",
        "    ...\n",
        "    ...\n",
        "    ...\n",
        "    ...\n",
        "    ...\n",
        "    ...\n",
        "    ...\n",
        "\n",
        "    return 0;\n",
        "}"
      ]
    },
    {
      "cell_type": "markdown",
      "metadata": {
        "deletable": false,
        "editable": false,
        "id": "ptRichCa5qR9"
      },
      "source": [
        "#### Compile and Run\n",
        "Do you get the same output as we suggested?  If not, revisit your implementation!"
      ]
    },
    {
      "cell_type": "code",
      "execution_count": null,
      "metadata": {
        "deletable": false,
        "editable": false,
        "id": "YOuqCLOK5qR9"
      },
      "outputs": [],
      "source": [
        "!g++ dynamic.cpp -o dynamic\n",
        "!./dynamic 1"
      ]
    },
    {
      "cell_type": "markdown",
      "metadata": {
        "deletable": false,
        "editable": false,
        "id": "Fzfarl125qR9"
      },
      "source": [
        "\n",
        "## Problem 4: Templates\n",
        "\n",
        "Some of the difficulty of the \"strict-typed\" nature of `C++` can be eased by using \"templates.\"  Templates allow you to define generic classes (blueprints for more complicated objects), functions, and more without specifying a type.  Then when you use the templated function, for example, you can explicitly set the type or let the compiler infer it.  This allows for writing generic code without having to copy-and-paste lots of implementations.\n",
        "\n",
        "Take, for example, a simple classroom example where I want to write a function that adds one to a value.  Unlike Python which would happily let me define such a function without specifying the input type, in `C++`, I would need to be explicit:\n",
        "\n",
        "```cpp\n",
        "int addOne(int a) {\n",
        "    return a + 1;\n",
        "}\n",
        "\n",
        "float addOne(float a) {\n",
        "    return a + 1.0f;\n",
        "}\n",
        "\n",
        "long addOne(long a) {\n",
        "    return a + 1;\n",
        "}\n",
        "\n",
        "double addOne(double a) {\n",
        "    return a + 1.0;\n",
        "}\n",
        "```\n",
        "\n",
        "This is obviously tedious, prone to error, and makes it hard to change code because I'd need to change 4 places.  Instead, I could use a template for both the argument and return type, and then when I call the function, the types get set in place:\n",
        "\n",
        "```cpp\n",
        "template <typename T>\n",
        "T addOne(T a) {\n",
        "    return a + 1\n",
        "}\n",
        "\n",
        "int main(void) {\n",
        "    long long my_numb = 3159;\n",
        "    long long result = addOne(my_numb);\n",
        "    // or instead of relying on automatic template deduction\n",
        "    // you could call addOne<long long>(my_numb);\n",
        "\n",
        "    printf(\"My value + 1: %lld\\n\", result);\n",
        "}\n",
        "```"
      ]
    },
    {
      "cell_type": "markdown",
      "metadata": {
        "deletable": false,
        "editable": false,
        "id": "ipyP6Pcs5qR9"
      },
      "source": [
        "#### Your Turn!\n",
        "\n",
        "Create a template function for `max()` that takes two arguments of any type and returns the larger of the two. Feel free to test your function with different data types (e.g., integers, doubles, and strings) and just use local variables that you set yourself and comment our code that handles the commandline args.  \n",
        "\n",
        "When you're done, put back our commandline argument handling code and we'll test exactly these inputs and expect exactly the output shown (be careful with the number of decimal places for your floating point output):\n",
        "\n",
        "```text\n",
        "./templates float 4.5 3.1\n",
        "Max of 4.5 and 3.1 is 4.5\n",
        "\n",
        "./templates int 1 10\n",
        "Max of 1 and 10 is 10\n",
        "```"
      ]
    },
    {
      "cell_type": "code",
      "execution_count": null,
      "metadata": {
        "id": "JmO7T6qO5qR9",
        "tags": []
      },
      "outputs": [],
      "source": [
        "%%cpp -n templates.cpp\n",
        "\n",
        "#include <cstdio>\n",
        "#include <string>\n",
        "\n",
        "...\n",
        "...\n",
        "...\n",
        "...\n",
        "\n",
        "int main(int argc, char* argv[]) {\n",
        "    if (argc != 4) {\n",
        "        printf(\"Usage: %s <type> <value1> <value2>\\n\", argv[0]);\n",
        "        return 1;\n",
        "    }\n",
        "\n",
        "    std::string type = argv[1];\n",
        "    std::string val1 = argv[2];\n",
        "    std::string val2 = argv[3];\n",
        "\n",
        "    if (type == \"int\") {\n",
        "        int a = std::stoi(val1);\n",
        "        int b = std::stoi(val2);\n",
        "        // TODO: Compute and print the integer case!\n",
        "        ...\n",
        "    }\n",
        "    else if (type == \"float\") {\n",
        "        float a = std::stof(val1);\n",
        "        float b = std::stof(val2);\n",
        "        // TODO: Compute and print the float case!\n",
        "        ...\n",
        "    }\n",
        "    else {\n",
        "        printf(\"Unsupported type: %s\\n\", type.c_str());\n",
        "        return 1;\n",
        "    }\n",
        "\n",
        "    return 0;\n",
        "}\n"
      ]
    },
    {
      "cell_type": "markdown",
      "metadata": {
        "deletable": false,
        "editable": false,
        "id": "EefiY3FK5qR-",
        "vscode": {
          "languageId": "raw"
        }
      },
      "source": [
        "#### Compile and Run\n",
        "Do you get the same output as we suggested?  If not, revisit your implementation!"
      ]
    },
    {
      "cell_type": "code",
      "execution_count": null,
      "metadata": {
        "deletable": false,
        "editable": false,
        "id": "p925h_-Q5qR-"
      },
      "outputs": [],
      "source": [
        "!g++ templates.cpp -o templates\n",
        "!./templates float 4.5 3.1\n",
        "!./templates int 1 10"
      ]
    },
    {
      "cell_type": "markdown",
      "metadata": {
        "deletable": false,
        "editable": false,
        "id": "e603gAVC5qR-",
        "vscode": {
          "languageId": "raw"
        }
      },
      "source": [
        "---\n",
        "\n",
        "\n",
        "## Problem 5: Python Matrix Multiplication\n",
        "\n",
        "In class, we've been discussing the performance of various matrix operations and the possibility of using parallelism to improve our efficiency (loosely defined).  The next problem set coding assignments will explore this in greater detail and with a slew of benchmarking, but for now, let's remind ourselves how to code the naïve algorithm for matrix multiplication but using Python (as it's easier to start this way than in C/C++).\n",
        "\n",
        "In the written part of PS0, you likely reacquainted yourself with the standard matrix multiplication algorithm:\n",
        "$$C_{ij} = \\sum_{k=1}^{n} A_{ik} \\times B_{kj}$$\n",
        "\n",
        "We can apply this to a simple example for the purposes of starting our lab.  Consider a matrix $A$ (in gray) which is $4\\times5$ and $B$ (blue) of dimensions $5\\times4$ whose product results in $C$ (purple) of size $4\\times4$.\n",
        "\n",
        "![matrix mult example](https://raw.githubusercontent.com/COMS-BC3159-F24/image_assets/main/matmul_example.png)\n",
        "\n",
        "We've provided the initial matrices (which we're implementing using `list`s of `list`s).  And, we've also provided a handy `printMatrix()` routine to do just what it says, print a matrix."
      ]
    },
    {
      "cell_type": "code",
      "execution_count": null,
      "metadata": {
        "id": "ygJrTjk_5qR-",
        "tags": []
      },
      "outputs": [],
      "source": [
        "def printMatrix(matrix):\n",
        "    for row in matrix:\n",
        "        print(' '.join(f'{elem:5}' for elem in row))\n",
        "\n",
        "A = [\n",
        "        [0, 1, 2, 3, 4],\n",
        "        [5, 6, 7, 8, 9],\n",
        "        [10, 11, 12, 13, 14],\n",
        "        [15, 16, 17, 18, 19]\n",
        "    ]\n",
        "\n",
        "B = [\n",
        "        [20, 21, 22, 23],\n",
        "        [24, 25, 26, 27],\n",
        "        [28, 29, 30, 31],\n",
        "        [32, 33, 34, 35],\n",
        "        [36, 37, 38, 39]\n",
        "    ]"
      ]
    },
    {
      "cell_type": "code",
      "execution_count": null,
      "metadata": {
        "id": "Wst8q6-n5qR_",
        "tags": []
      },
      "outputs": [],
      "source": [
        "def matrix_multiply(A, B):\n",
        "    ...\n",
        "    return C\n",
        "\n",
        "C = matrix_multiply(A, B)\n",
        "printMatrix(C)"
      ]
    }
  ],
  "metadata": {
    "colab": {
      "provenance": [],
      "toc_visible": true
    },
    "kernelspec": {
      "display_name": "Python 3",
      "language": "python",
      "name": "python3"
    },
    "language_info": {
      "codemirror_mode": {
        "name": "ipython",
        "version": 3
      },
      "file_extension": ".py",
      "mimetype": "text/x-python",
      "name": "python",
      "nbconvert_exporter": "python",
      "pygments_lexer": "ipython3",
      "version": "3.12.0"
    },
    "otter": {
      "OK_FORMAT": true,
      "tests": {
        "q1-basics": {
          "name": "q1-basics",
          "points": 2,
          "suites": [
            {
              "cases": [],
              "scored": true,
              "setup": "",
              "teardown": "",
              "type": "doctest"
            }
          ]
        },
        "q2-arrays": {
          "name": "q2-arrays",
          "points": 2,
          "suites": [
            {
              "cases": [],
              "scored": true,
              "setup": "",
              "teardown": "",
              "type": "doctest"
            }
          ]
        },
        "q3-dynamic": {
          "name": "q3-dynamic",
          "points": 2,
          "suites": [
            {
              "cases": [],
              "scored": true,
              "setup": "",
              "teardown": "",
              "type": "doctest"
            }
          ]
        },
        "q4-templates": {
          "name": "q4-templates",
          "points": 2,
          "suites": [
            {
              "cases": [
                {
                  "code": ">>> import random\n>>> import subprocess\n>>> \n>>> def test_cpp_output(cpp_type, random_number_one, random_number_two):\n...     result = subprocess.run(['./templates', f'{cpp_type}', f'{random_number_one}', f'{random_number_two}'], capture_output=True, text=True)\n...     output = result.stdout.strip().split('\\n')\n...     if cpp_type == 'float':\n...         solstring = f'Max of {random_number_one:.1f} and {random_number_two:.1f} is {max(random_number_one, random_number_two):.1f}'\n...     else:\n...         solstring = f'Max of {random_number_one} and {random_number_two} is {max(random_number_one, random_number_two)}'\n...     assert output[0] == solstring\n>>> test_cpp_output('int', random.randint(1, 10), random.randint(1, 10))\n>>> test_cpp_output('float', float(random.uniform(1.0, 10.0)), float(random.uniform(1.0, 10.0)))\n",
                  "hidden": false,
                  "locked": false
                }
              ],
              "scored": true,
              "setup": "",
              "teardown": "",
              "type": "doctest"
            }
          ]
        },
        "q5-matmul": {
          "name": "q5-matmul",
          "points": 2,
          "suites": [
            {
              "cases": [],
              "scored": true,
              "setup": "",
              "teardown": "",
              "type": "doctest"
            }
          ]
        }
      }
    },
    "varInspector": {
      "cols": {
        "lenName": 16,
        "lenType": 16,
        "lenVar": 40
      },
      "kernels_config": {
        "python": {
          "delete_cmd_postfix": "",
          "delete_cmd_prefix": "del ",
          "library": "var_list.py",
          "varRefreshCmd": "print(var_dic_list())"
        },
        "r": {
          "delete_cmd_postfix": ") ",
          "delete_cmd_prefix": "rm(",
          "library": "var_list.r",
          "varRefreshCmd": "cat(var_dic_list()) "
        }
      },
      "types_to_exclude": [
        "module",
        "function",
        "builtin_function_or_method",
        "instance",
        "_Feature"
      ],
      "window_display": false
    }
  },
  "nbformat": 4,
  "nbformat_minor": 0
}